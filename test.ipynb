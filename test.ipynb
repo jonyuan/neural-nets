{
 "cells": [
  {
   "cell_type": "code",
   "execution_count": 1,
   "metadata": {},
   "outputs": [
    {
     "name": "stdout",
     "output_type": "stream",
     "text": [
      "hello\n",
      "hello\n"
     ]
    }
   ],
   "source": [
    "print(\"hello\")\n",
    "import mnist\n",
    "import basic\n",
    "print(\"hello\")\n",
    "\n"
   ]
  },
  {
   "cell_type": "code",
   "execution_count": 2,
   "metadata": {},
   "outputs": [],
   "source": [
    "training_data, validation_data, test_data = mnist.load_data_wrapper()\n",
    "training_data = list(training_data)\n",
    "\n",
    "net = basic.Network([784, 30, 10])"
   ]
  },
  {
   "cell_type": "code",
   "execution_count": null,
   "metadata": {},
   "outputs": [
    {
     "name": "stdout",
     "output_type": "stream",
     "text": [
      "test\n",
      "Epoch 0 out of 30 complete\n",
      "Epoch 0 Evaluation: 8316 / 10000 Success\n",
      "test\n",
      "Epoch 1 out of 30 complete\n",
      "Epoch 1 Evaluation: 9207 / 10000 Success\n",
      "test\n",
      "Epoch 2 out of 30 complete\n",
      "Epoch 2 Evaluation: 9248 / 10000 Success\n",
      "test\n",
      "Epoch 3 out of 30 complete\n",
      "Epoch 3 Evaluation: 9358 / 10000 Success\n",
      "test\n",
      "Epoch 4 out of 30 complete\n",
      "Epoch 4 Evaluation: 9362 / 10000 Success\n",
      "test\n",
      "Epoch 5 out of 30 complete\n",
      "Epoch 5 Evaluation: 9358 / 10000 Success\n",
      "test\n",
      "Epoch 6 out of 30 complete\n",
      "Epoch 6 Evaluation: 9395 / 10000 Success\n",
      "test\n",
      "Epoch 7 out of 30 complete\n",
      "Epoch 7 Evaluation: 9390 / 10000 Success\n",
      "test\n",
      "Epoch 8 out of 30 complete\n",
      "Epoch 8 Evaluation: 9408 / 10000 Success\n",
      "test\n",
      "Epoch 9 out of 30 complete\n",
      "Epoch 9 Evaluation: 9420 / 10000 Success\n",
      "test\n",
      "Epoch 10 out of 30 complete\n",
      "Epoch 10 Evaluation: 9444 / 10000 Success\n",
      "test\n",
      "Epoch 11 out of 30 complete\n",
      "Epoch 11 Evaluation: 9423 / 10000 Success\n",
      "test\n",
      "Epoch 12 out of 30 complete\n",
      "Epoch 12 Evaluation: 9453 / 10000 Success\n",
      "test\n",
      "Epoch 13 out of 30 complete\n",
      "Epoch 13 Evaluation: 9444 / 10000 Success\n"
     ]
    }
   ],
   "source": [
    "net.SGD(training_data, 30, 10, 3.0, test_data=test_data)"
   ]
  }
 ],
 "metadata": {
  "kernelspec": {
   "display_name": "Python 3",
   "language": "python",
   "name": "python3"
  },
  "language_info": {
   "codemirror_mode": {
    "name": "ipython",
    "version": 3
   },
   "file_extension": ".py",
   "mimetype": "text/x-python",
   "name": "python",
   "nbconvert_exporter": "python",
   "pygments_lexer": "ipython3",
   "version": "3.7.1"
  }
 },
 "nbformat": 4,
 "nbformat_minor": 2
}
